{
 "cells": [
  {
   "cell_type": "code",
   "execution_count": 1,
   "metadata": {},
   "outputs": [],
   "source": [
    "import pyttsx4"
   ]
  },
  {
   "cell_type": "code",
   "execution_count": 2,
   "metadata": {},
   "outputs": [],
   "source": [
    "engine = pyttsx4.init()"
   ]
  },
  {
   "cell_type": "code",
   "execution_count": 3,
   "metadata": {},
   "outputs": [],
   "source": [
    "import time"
   ]
  },
  {
   "cell_type": "code",
   "execution_count": 5,
   "metadata": {},
   "outputs": [
    {
     "name": "stdout",
     "output_type": "stream",
     "text": [
      "time : 1.072092056274414\n"
     ]
    }
   ],
   "source": [
    "start = time.time()  # 시작 시간 저장\n",
    "engine.save_to_file('신은 우리의 수학 문제에는 관심이 없다. 신은 다만 경험적으로 통합할 뿐이다.' , 'testtest.wav')\n",
    "engine.runAndWait()\n",
    "print(\"time :\", time.time() - start)  # 현재시각 - 시작시간 = 실행 시간"
   ]
  },
  {
   "cell_type": "code",
   "execution_count": 6,
   "metadata": {},
   "outputs": [
    {
     "data": {
      "text/plain": [
       "200.0"
      ]
     },
     "execution_count": 6,
     "metadata": {},
     "output_type": "execute_result"
    }
   ],
   "source": [
    "rate = engine.getProperty('rate')\n",
    "rate"
   ]
  },
  {
   "cell_type": "code",
   "execution_count": 7,
   "metadata": {},
   "outputs": [],
   "source": [
    "engine.setProperty('rate', 100)"
   ]
  },
  {
   "cell_type": "code",
   "execution_count": 8,
   "metadata": {},
   "outputs": [
    {
     "name": "stdout",
     "output_type": "stream",
     "text": [
      "time : 0.4159412384033203\n"
     ]
    }
   ],
   "source": [
    "start = time.time()  # 시작 시간 저장\n",
    "engine.save_to_file('신은 우리의 수학 문제에는 관심이 없다. 신은 다만 경험적으로 통합할 뿐이다.' , 'testtest.wav')\n",
    "engine.runAndWait()\n",
    "print(\"time :\", time.time() - start)  # 현재시각 - 시작시간 = 실행 시간"
   ]
  },
  {
   "cell_type": "code",
   "execution_count": 104,
   "metadata": {},
   "outputs": [
    {
     "name": "stdout",
     "output_type": "stream",
     "text": [
      "time : 1.1525940895080566\n"
     ]
    }
   ],
   "source": [
    "start = time.time()  # 시작 시간  저장\n",
    "engine.save_to_file('신은 우리의 수학 문제에는 관심이 없다. 신은 다만 경험적으로 통합할 뿐이다.' , 'testtest3.wav')\n",
    "engine.runAndWait()\n",
    "print(\"time :\", time.time() - start)  # 현재시각 - 시작시간 = 실행 시간"
   ]
  },
  {
   "cell_type": "code",
   "execution_count": 11,
   "metadata": {},
   "outputs": [
    {
     "data": {
      "text/plain": [
       "'com.apple.voice.premium.ko-KR.Jina'"
      ]
     },
     "execution_count": 11,
     "metadata": {},
     "output_type": "execute_result"
    }
   ],
   "source": [
    "voice = engine.getProperty('voice')\n",
    "voice"
   ]
  },
  {
   "cell_type": "code",
   "execution_count": 106,
   "metadata": {},
   "outputs": [],
   "source": [
    "text = '그룹 에이프릴 출신 배우 이나은이 축구선수 이강인과 열애설이 불거졌으나 지인 사이라며 부인했습니다.'"
   ]
  },
  {
   "cell_type": "code",
   "execution_count": 107,
   "metadata": {},
   "outputs": [
    {
     "name": "stdout",
     "output_type": "stream",
     "text": [
      "time : 0.4135017395019531\n"
     ]
    }
   ],
   "source": [
    "start = time.time()  # 시작 시간 저장\n",
    "engine.save_to_file(text , 'text33.wav')\n",
    "engine.runAndWait()\n",
    "print(\"time :\", time.time() - start)  # 현재시각 - 시작시간 = 실행 시간"
   ]
  },
  {
   "cell_type": "code",
   "execution_count": 101,
   "metadata": {},
   "outputs": [],
   "source": [
    "engine.setProperty('rate', 90)"
   ]
  },
  {
   "cell_type": "code",
   "execution_count": 16,
   "metadata": {},
   "outputs": [
    {
     "name": "stdout",
     "output_type": "stream",
     "text": [
      "time : 0.31165480613708496\n"
     ]
    }
   ],
   "source": [
    "start = time.time()  # 시작 시간 저장\n",
    "engine.save_to_file(text , 'text3-1.wav')\n",
    "engine.runAndWait()\n",
    "print(\"time :\", time.time() - start)  # 현재시각 - 시작시간 = 실행 시간"
   ]
  },
  {
   "cell_type": "code",
   "execution_count": 17,
   "metadata": {},
   "outputs": [],
   "source": [
    "text = '화나시나요? 왜 그러시는거죠? 왜요? 저는 화 안날 것 같은데. 왜? 왜?'"
   ]
  },
  {
   "cell_type": "code",
   "execution_count": 18,
   "metadata": {},
   "outputs": [
    {
     "name": "stdout",
     "output_type": "stream",
     "text": [
      "time : 0.30577898025512695\n"
     ]
    }
   ],
   "source": [
    "start = time.time()  # 시작 시간 저장\n",
    "engine.save_to_file(text , 'text4.wav')\n",
    "engine.runAndWait()\n",
    "print(\"time :\", time.time() - start)  # 현재시각 - 시작시간 = 실행 시간"
   ]
  },
  {
   "cell_type": "code",
   "execution_count": 19,
   "metadata": {},
   "outputs": [],
   "source": [
    "text = \"주문하신 내용은 다음과 같습니다. 메뉴 : 햄   빵 종류 : 하티   빵 사이즈 : 15   채소 : 토마토   소스 : 마요네즈   음료 : 사이다입니다. 총 결제 금액은 7500원입니다.\""
   ]
  },
  {
   "cell_type": "code",
   "execution_count": 20,
   "metadata": {},
   "outputs": [
    {
     "name": "stdout",
     "output_type": "stream",
     "text": [
      "time : 0.5190830230712891\n"
     ]
    }
   ],
   "source": [
    "start = time.time()  # 시작 시간 저장\n",
    "engine.save_to_file(text , 'text5.wav')\n",
    "engine.runAndWait()\n",
    "print(\"time :\", time.time() - start)  # 현재시각 - 시작시간 = 실행 시간"
   ]
  },
  {
   "cell_type": "code",
   "execution_count": 21,
   "metadata": {},
   "outputs": [],
   "source": [
    "text = '''안녕하세요, 여러분.\n",
    "오늘의 소식은 가수 이소라의 데뷔 30주년 기념 콘서트에 대한 이야기입니다.\n",
    "이소라는 10일 서울 경희대학교 평화의전당에서 30년의 음악 생활, 그리고 그녀의 인생 이야기를 노래로 전하면서 \"잊히고 싶지 않아요. 우리 다음에 또 공연하거나 보게 되면 아는 척 해 주세요.\"라고 말했습니다.\n",
    "그녀의 음악 세계는 호소력 있는 음색과 요동치는 감정으로 채워져 있으며, 그녀의 히트곡들과는 별개로 '쉽게 볼 수 없는 가수'라는 이미지도 가지고 있습니다.\n",
    "이번 콘서트는 지난 2019년 연말 공연 이후 4년 만에 열리는 무대였으며, 관객들은 이소라의 심금을 울리는 노래와 그녀의 이야기에 집중했습니다.\n",
    "이소라는 30년간 자신의 음악과 이야기로 많은 사람들에게 위로와 희망을 전해왔습니다. 그녀의 음악에 함께 해 주신 여러분께 감사의 말씀을 전합니다.'''"
   ]
  },
  {
   "cell_type": "code",
   "execution_count": 22,
   "metadata": {},
   "outputs": [
    {
     "name": "stdout",
     "output_type": "stream",
     "text": [
      "time : 1.6501541137695312\n"
     ]
    }
   ],
   "source": [
    "start = time.time()  # 시작 시간 저장\n",
    "engine.save_to_file(text , 'text-long.wav')\n",
    "engine.runAndWait()\n",
    "print(\"time :\", time.time() - start)  # 현재시각 - 시작시간 = 실행 시간"
   ]
  },
  {
   "cell_type": "code",
   "execution_count": 108,
   "metadata": {},
   "outputs": [],
   "source": [
    "text = '건물주 A씨는 \"김씨가 전 건물주에게 진 빚도 160만원 있고 밀린 월세까지 합하면 빚이 500만~600만원가량 됐다\"며 \"작년 연말에 연락이 와 사무실을 처분하겠다고 이야기해서 그러라고 했다\"고 밝혔다.'"
   ]
  },
  {
   "cell_type": "code",
   "execution_count": 109,
   "metadata": {},
   "outputs": [
    {
     "name": "stdout",
     "output_type": "stream",
     "text": [
      "time : 0.6244649887084961\n"
     ]
    }
   ],
   "source": [
    "start = time.time()  # 시작 시간 저장\n",
    "engine.save_to_file(text , 'text66.wav')\n",
    "engine.runAndWait()\n",
    "print(\"time :\", time.time() - start)  # 현재시각 - 시작시간 = 실행 시간"
   ]
  },
  {
   "cell_type": "code",
   "execution_count": 94,
   "metadata": {},
   "outputs": [
    {
     "name": "stdout",
     "output_type": "stream",
     "text": [
      "time : 0.5233919620513916\n"
     ]
    }
   ],
   "source": [
    "start = time.time()  # 시작 시간 저장\n",
    "engine.save_to_file(text , 'text6-유나.wav')\n",
    "engine.runAndWait()\n",
    "print(\"time :\", time.time() - start)  # 현재시각 - 시작시간 = 실행 시간"
   ]
  },
  {
   "cell_type": "code",
   "execution_count": 33,
   "metadata": {},
   "outputs": [],
   "source": [
    "text = \"그룹 AOA 출신의 유나가 다음 달 결혼한다고 합니다.\""
   ]
  },
  {
   "cell_type": "code",
   "execution_count": 34,
   "metadata": {},
   "outputs": [
    {
     "name": "stdout",
     "output_type": "stream",
     "text": [
      "time : 0.3139619827270508\n"
     ]
    }
   ],
   "source": [
    "start = time.time()  # 시작 시간 저장\n",
    "engine.save_to_file(text , 'text6.wav')\n",
    "engine.runAndWait()\n",
    "print(\"time :\", time.time() - start)  # 현재시각 - 시작시간 = 실행 시간"
   ]
  },
  {
   "cell_type": "code",
   "execution_count": 95,
   "metadata": {},
   "outputs": [],
   "source": [
    "text = \"유나는 지난 11일 자신의 SNS 계정을 통해 평생을 함께하고 싶은 사람이 생겼다며 다가오는 2월 가까운 친지분들만 모시고 결혼식을 올릴 예정이라고 밝혔습니다.\""
   ]
  },
  {
   "cell_type": "code",
   "execution_count": 36,
   "metadata": {},
   "outputs": [
    {
     "name": "stdout",
     "output_type": "stream",
     "text": [
      "time : 0.514833927154541\n"
     ]
    }
   ],
   "source": [
    "start = time.time()  # 시작 시간 저장\n",
    "engine.save_to_file(text , 'text7.wav')\n",
    "engine.runAndWait()\n",
    "print(\"time :\", time.time() - start)  # 현재시각 - 시작시간 = 실행 시간"
   ]
  },
  {
   "cell_type": "code",
   "execution_count": 96,
   "metadata": {},
   "outputs": [
    {
     "name": "stdout",
     "output_type": "stream",
     "text": [
      "time : 0.520880937576294\n"
     ]
    }
   ],
   "source": [
    "start = time.time()  # 시작 시간 저장\n",
    "engine.save_to_file(text , 'text7-유나.wav')\n",
    "engine.runAndWait()\n",
    "print(\"time :\", time.time() - start)  # 현재시각 - 시작시간 = 실행 시간"
   ]
  },
  {
   "cell_type": "code",
   "execution_count": 37,
   "metadata": {},
   "outputs": [],
   "source": [
    "text = \"그는 예비 신랑을 힘들고 무너졌던 순간에도 늘 다시 일어날 수 있게 변함 없이 빈자리를 채워줬던 따뜻한 사람이라고 소개했습니다.\""
   ]
  },
  {
   "cell_type": "code",
   "execution_count": 38,
   "metadata": {},
   "outputs": [
    {
     "name": "stdout",
     "output_type": "stream",
     "text": [
      "time : 0.41625308990478516\n"
     ]
    }
   ],
   "source": [
    "start = time.time()  # 시작 시간 저장\n",
    "engine.save_to_file(text , 'text8.wav')\n",
    "engine.runAndWait()\n",
    "print(\"time :\", time.time() - start)  # 현재시각 - 시작시간 = 실행 시간"
   ]
  },
  {
   "cell_type": "code",
   "execution_count": 91,
   "metadata": {},
   "outputs": [],
   "source": [
    "text = '회의 중 욕설로 논란을 빚은 야권 추천 옥시찬 방송통신심의위원회 위원이 11일 류희림 위원장의 청부 심의 사건은 이해충돌방지법 위반이 자명하다고 말했습니다.'"
   ]
  },
  {
   "cell_type": "code",
   "execution_count": 40,
   "metadata": {},
   "outputs": [
    {
     "name": "stdout",
     "output_type": "stream",
     "text": [
      "time : 0.5146698951721191\n"
     ]
    }
   ],
   "source": [
    "start = time.time()  # 시작 시간 저장\n",
    "engine.save_to_file(text , 'text9.wav')\n",
    "engine.runAndWait()\n",
    "print(\"time :\", time.time() - start)  # 현재시각 - 시작시간 = 실행 시간"
   ]
  },
  {
   "cell_type": "code",
   "execution_count": 92,
   "metadata": {},
   "outputs": [
    {
     "name": "stdout",
     "output_type": "stream",
     "text": [
      "time : 0.5261309146881104\n"
     ]
    }
   ],
   "source": [
    "start = time.time()  # 시작 시간 저장\n",
    "engine.save_to_file(text , 'text9-유나.wav')\n",
    "engine.runAndWait()\n",
    "print(\"time :\", time.time() - start)  # 현재시각 - 시작시간 = 실행 시간"
   ]
  },
  {
   "cell_type": "code",
   "execution_count": 41,
   "metadata": {},
   "outputs": [],
   "source": [
    "text = '옥 위원은 이날 입장문을 내고 순간적으로 감정을 다스리지 못하고 막말을 한 것은 변명의 여지가 없이 잘못된 일로, 깊이 반성하고 있다며 이같이 밝혔습니다.'"
   ]
  },
  {
   "cell_type": "code",
   "execution_count": 42,
   "metadata": {},
   "outputs": [
    {
     "name": "stdout",
     "output_type": "stream",
     "text": [
      "time : 0.41375088691711426\n"
     ]
    }
   ],
   "source": [
    "start = time.time()  # 시작 시간 저장\n",
    "engine.save_to_file(text , 'text10.wav')\n",
    "engine.runAndWait()\n",
    "print(\"time :\", time.time() - start)  # 현재시각 - 시작시간 = 실행 시간"
   ]
  },
  {
   "cell_type": "code",
   "execution_count": 43,
   "metadata": {},
   "outputs": [],
   "source": [
    "text = '강상욱 서울고법 판사가 사망했습니다.'"
   ]
  },
  {
   "cell_type": "code",
   "execution_count": 44,
   "metadata": {},
   "outputs": [
    {
     "name": "stdout",
     "output_type": "stream",
     "text": [
      "time : 0.3120839595794678\n"
     ]
    }
   ],
   "source": [
    "start = time.time()  # 시작 시간 저장\n",
    "engine.save_to_file(text , 'text11.wav')\n",
    "engine.runAndWait()\n",
    "print(\"time :\", time.time() - start)  # 현재시각 - 시작시간 = 실행 시간"
   ]
  },
  {
   "cell_type": "code",
   "execution_count": 97,
   "metadata": {},
   "outputs": [],
   "source": [
    "text = '12일 법조계에 따르면 강 판사는 전날 저녁 갑자기 쓰러져 병원으로 이송됐지만 숨진 것으로 알려졌습니다'"
   ]
  },
  {
   "cell_type": "code",
   "execution_count": 46,
   "metadata": {},
   "outputs": [
    {
     "name": "stdout",
     "output_type": "stream",
     "text": [
      "time : 0.41628408432006836\n"
     ]
    }
   ],
   "source": [
    "start = time.time()  # 시작 시간 저장\n",
    "engine.save_to_file(text , 'text12.wav')\n",
    "engine.runAndWait()\n",
    "print(\"time :\", time.time() - start)  # 현재시각 - 시작시간 = 실행 시간"
   ]
  },
  {
   "cell_type": "code",
   "execution_count": 98,
   "metadata": {},
   "outputs": [
    {
     "name": "stdout",
     "output_type": "stream",
     "text": [
      "time : 0.40959882736206055\n"
     ]
    }
   ],
   "source": [
    "start = time.time()  # 시작 시간 저장\n",
    "engine.save_to_file(text , 'text12-유나.wav')\n",
    "engine.runAndWait()\n",
    "print(\"time :\", time.time() - start)  # 현재시각 - 시작시간 = 실행 시간"
   ]
  },
  {
   "cell_type": "code",
   "execution_count": 47,
   "metadata": {},
   "outputs": [],
   "source": [
    "text = '강 판사가 속한 재판부는 지난해부터 최태원 SK그룹 회장과 노소영 아트센터 나비 관장의 이혼 소송 2심을 심리해왔습니다.'"
   ]
  },
  {
   "cell_type": "code",
   "execution_count": 48,
   "metadata": {},
   "outputs": [
    {
     "name": "stdout",
     "output_type": "stream",
     "text": [
      "time : 0.4051661491394043\n"
     ]
    }
   ],
   "source": [
    "start = time.time()  # 시작 시간 저장\n",
    "engine.save_to_file(text , 'text13.wav')\n",
    "engine.runAndWait()\n",
    "print(\"time :\", time.time() - start)  # 현재시각 - 시작시간 = 실행 시간"
   ]
  },
  {
   "cell_type": "code",
   "execution_count": 51,
   "metadata": {},
   "outputs": [],
   "source": [
    "text = \"그룹 AOA 출신의 유나가 다음 달 결혼한다고 합니다. 유나는 지난 11일 자신의 SNS 계정을 통해 평생을 함께하고 싶은 사람이 생겼다며 다가오는 2월 가까운 친지분들만 모시고 결혼식을 올릴 예정이라고 밝혔습니다. 그는 예비 신랑을 힘들고 무너졌던 순간에도 늘 다시 일어날 수 있게 변함 없이 빈자리를 채워줬던 따뜻한 사람이라고 소개했습니다. 유나는 그룹 AOA에서 활동하며 많은 팬들에게 사랑을 받았습니다. 그녀는 뛰어난 음악적 재능과 무대 위의 카리스마로 많은 이들의 주목을 받았습니다. 건물주 A씨는 '김씨가 전 건물주에게 진 빚도 160만원 있고 밀린 월세까지 합하면 빚이 500만~600만원가량 됐다'며 '작년 연말에 연락이 와 사무실을 처분하겠다고 이야기해서 그러라고 했다'고 밝혔다. 안녕하세요, 여러분. 오늘의 소식은 가수 이소라의 데뷔 30주년 기념 콘서트에 대한 이야기입니다. 이소라는 10일 서울 경희대학교 평화의전당에서 30년의 음악 생활, 그리고 그녀의 인생 이야기를 노래로 전하면서 '잊히고 싶지 않아요. 우리 다음에 또 공연하거나 보게 되면 아는 척 해 주세요.'라고 말했습니다. 그녀의 음악 세계는 호소력 있는 음색과 요동치는 감정으로 채워져 있으며, 그녀의 히트곡들과는 별개로 쉽게 볼 수 없는 가수라는 이미지도 가지고 있습니다. 이번 콘서트는 지난 2019년 연말 공연 이후 4년 만에 열리는 무대였으며, 관객들은 이소라의 심금을 울리는 노래와 그녀의 이야기에 집중했습니다. 이소라는 30년간 자신의 음악과 이야기로 많은 사람들에게 위로와 희망을 전해왔습니다. 그녀의 음악에 함께 해 주신 여러분께 감사의 말씀을 전합니다.\""
   ]
  },
  {
   "cell_type": "code",
   "execution_count": 54,
   "metadata": {},
   "outputs": [
    {
     "name": "stdout",
     "output_type": "stream",
     "text": [
      "time : 1.033423900604248\n"
     ]
    }
   ],
   "source": [
    "start = time.time()  # 시작 시간 저장\n",
    "engine.save_to_file(text , 'text-long4.wav')\n",
    "engine.runAndWait()\n",
    "print(\"time :\", time.time() - start)  # 현재시각 - 시작시간 = 실행 시간"
   ]
  },
  {
   "cell_type": "code",
   "execution_count": 55,
   "metadata": {},
   "outputs": [],
   "source": [
    "text = \"그룹 AOA 출신의 유나가 다음 달 결혼한다고 합니다. 하하하하. 유나는 지난 11일 자신의 SNS 계정을 통해 평생을 함께하고 싶은 사람이 생겼다며 다가오는 2월 가까운 친지분들만 모시고 결혼식을 올릴 예정이라고 밝혔습니다. 그는 예비 신랑을 힘들고 무너졌던 순간에도 늘 다시 일어날 수 있게 변함 없이 빈자리를 채워줬던 따뜻한 사람이라고 소개했습니다. 유나는 그룹 AOA에서 활동하며 많은 팬들에게 사랑을 받았습니다. 그녀는 뛰어난 음악적 재능과 무대 위의 카리스마로 많은 이들의 주목을 받았습니다. 건물주 A씨는 '김씨가 전 건물주에게 진 빚도 160만원 있고 밀린 월세까지 합하면 빚이 500만~600만원가량 됐다'며 '작년 연말에 연락이 와 사무실을 처분하겠다고 이야기해서 그러라고 했다'고 밝혔다. 안녕하세요, 여러분. 오늘의 소식은 가수 이소라의 데뷔 30주년 기념 콘서트에 대한 이야기입니다. 이소라는 10일 서울 경희대학교 평화의전당에서 30년의 음악 생활, 그리고 그녀의 인생 이야기를 노래로 전하면서 '잊히고 싶지 않아요. 우리 다음에 또 공연하거나 보게 되면 아는 척 해 주세요.'라고 말했습니다. 그녀의 음악 세계는 호소력 있는 음색과 요동치는 감정으로 채워져 있으며, 그녀의 히트곡들과는 별개로 쉽게 볼 수 없는 가수라는 이미지도 가지고 있습니다. 이번 콘서트는 지난 2019년 연말 공연 이후 4년 만에 열리는 무대였으며, 관객들은 이소라의 심금을 울리는 노래와 그녀의 이야기에 집중했습니다. 이소라는 30년간 자신의 음악과 이야기로 많은 사람들에게 위로와 희망을 전해왔습니다. 그녀의 음악에 함께 해 주신 여러분께 감사의 말씀을 전합니다.\""
   ]
  },
  {
   "cell_type": "code",
   "execution_count": 56,
   "metadata": {},
   "outputs": [
    {
     "name": "stdout",
     "output_type": "stream",
     "text": [
      "time : 2.667484998703003\n"
     ]
    }
   ],
   "source": [
    "start = time.time()  # 시작 시간 저장\n",
    "engine.save_to_file(text , 'text-long5.wav')\n",
    "engine.runAndWait()\n",
    "print(\"time :\", time.time() - start)  # 현재시각 - 시작시간 = 실행 시간\n",
    "#1분 37초"
   ]
  },
  {
   "cell_type": "code",
   "execution_count": 57,
   "metadata": {},
   "outputs": [],
   "source": [
    "text = \"그룹 AOA 출신의 유나가 다음 달 결혼한다고 합니다. 하하하하. 유나는 지난 11일 자신의 SNS 계정을 통해 평생을 함께하고 싶은 사람이 생겼다며 다가오는 2월 가까운 친지분들만 모시고 결혼식을 올릴 예정이라고 밝혔습니다. 그는 예비 신랑을 힘들고 무너졌던 순간에도 늘 다시 일어날 수 있게 변함 없이 빈자리를 채워줬던 따뜻한 사람이라고 소개했습니다. 유나는 그룹 AOA에서 활동하며 많은 팬들에게 사랑을 받았습니다. 그녀는 뛰어난 음악적 재능과 무대 위의 카리스마로 많은 이들의 주목을 받았습니다. 건물주 A씨는 '김씨가 전 건물주에게 진 빚도 160만원 있고 밀린 월세까지 합하면 빚이 500만~600만원가량 됐다'며 '작년 연말에 연락이 와 사무실을 처분하겠다고 이야기해서 그러라고 했다'고 밝혔다. 안녕하세요, 여러분. 오늘의 소식은 가수 이소라의 데뷔 30주년 기념 콘서트에 대한 이야기입니다. \""
   ]
  },
  {
   "cell_type": "code",
   "execution_count": 58,
   "metadata": {},
   "outputs": [
    {
     "name": "stdout",
     "output_type": "stream",
     "text": [
      "time : 1.6358747482299805\n"
     ]
    }
   ],
   "source": [
    "start = time.time()  # 시작 시간 저장\n",
    "engine.save_to_file(text , 'text-long6.wav')\n",
    "engine.runAndWait()\n",
    "print(\"time :\", time.time() - start)  # 현재시각 - 시작시간 = 실행 시간\n",
    "# 54초"
   ]
  },
  {
   "cell_type": "code",
   "execution_count": 110,
   "metadata": {},
   "outputs": [],
   "source": [
    "text = \"봉준호 감독을 비롯한 문화예술인들은 12일 배우 이선균이 마약 투약 혐의로 경찰 수사를 받다가 숨진 사건을 경찰과 언론에 의한 '인격 살인'으로 규정하고 철저한 진상 규명과 재발 방지 대책을 촉구했다. 그는 예비 신랑을 힘들고 무너졌던 순간에도 늘 다시 일어날 수 있게 변함 없이 빈자리를 채워줬던 따뜻한 사람이라고 소개했습니다. 유나는 그룹 AOA에서 활동하며 많은 팬들에게 사랑을 받았습니다. 그녀는 뛰어난 음악적 재능과 무대 위의 카리스마로 많은 이들의 주목을 받았습니다. 건물주 A씨는 '김씨가 전 건물주에게 진 빚도 160만원 있고 밀린 월세까지 합하면 빚이 500만~600만원가량 됐다'며 '작년 연말에 연락이 와 사무실을 처분하겠다고 이야기해서 그러라고 했다'고 밝혔다. 안녕하세요, 여러분. 오늘의 소식은 가수 이소라의 데뷔 30주년 기념 콘서트에 대한 이야기입니다.\""
   ]
  },
  {
   "cell_type": "code",
   "execution_count": 111,
   "metadata": {},
   "outputs": [
    {
     "name": "stdout",
     "output_type": "stream",
     "text": [
      "time : 1.7339389324188232\n"
     ]
    }
   ],
   "source": [
    "start = time.time()  # 시작 시간 저장\n",
    "engine.save_to_file(text , 'text-long10.wav')\n",
    "engine.runAndWait()\n",
    "print(\"time :\", time.time() - start)  # 현재시각 - 시작시간 = 실행 시간\n",
    "# "
   ]
  },
  {
   "cell_type": "code",
   "execution_count": 99,
   "metadata": {},
   "outputs": [],
   "source": [
    "text = '그룹 방탄소년단 정국의 첫 솔로 앨범 타이틀곡 \"스탠딩 넥스트 투 유\"가 영국 오피셜 싱글 차트 73위에 올랐다.'"
   ]
  },
  {
   "cell_type": "code",
   "execution_count": 60,
   "metadata": {},
   "outputs": [
    {
     "name": "stdout",
     "output_type": "stream",
     "text": [
      "time : 0.4141697883605957\n"
     ]
    }
   ],
   "source": [
    "start = time.time()  # 시작 시간 저장\n",
    "engine.save_to_file(text , 'text14.wav')\n",
    "engine.runAndWait()\n",
    "print(\"time :\", time.time() - start)  # 현재시각 - 시작시간 = 실행 시간"
   ]
  },
  {
   "cell_type": "code",
   "execution_count": 100,
   "metadata": {},
   "outputs": [
    {
     "name": "stdout",
     "output_type": "stream",
     "text": [
      "time : 0.41106200218200684\n"
     ]
    }
   ],
   "source": [
    "start = time.time()  # 시작 시간 저장\n",
    "engine.save_to_file(text , 'text14-유나.wav')\n",
    "engine.runAndWait()\n",
    "print(\"time :\", time.time() - start)  # 현재시각 - 시작시간 = 실행 시간"
   ]
  },
  {
   "cell_type": "code",
   "execution_count": 61,
   "metadata": {},
   "outputs": [],
   "source": [
    "text = \"봉준호 감독을 비롯한 문화예술인들은 12일 배우 이선균이 마약 투약 혐의로 경찰 수사를 받다가 숨진 사건을 경찰과 언론에 의한 '인격 살인'으로 규정하고 철저한 진상 규명과 재발 방지 대책을 촉구했다.\""
   ]
  },
  {
   "cell_type": "code",
   "execution_count": 62,
   "metadata": {},
   "outputs": [
    {
     "name": "stdout",
     "output_type": "stream",
     "text": [
      "time : 0.6134021282196045\n"
     ]
    }
   ],
   "source": [
    "start = time.time()  # 시작 시간 저장\n",
    "engine.save_to_file(text , 'text15.wav')\n",
    "engine.runAndWait()\n",
    "print(\"time :\", time.time() - start)  # 현재시각 - 시작시간 = 실행 시간\n",
    "#13초 "
   ]
  },
  {
   "cell_type": "code",
   "execution_count": 63,
   "metadata": {},
   "outputs": [],
   "source": [
    "engine.setProperty('voice', 'com.apple.voice.enhanced.ko-KR.Minsu')"
   ]
  },
  {
   "cell_type": "code",
   "execution_count": 64,
   "metadata": {},
   "outputs": [
    {
     "name": "stdout",
     "output_type": "stream",
     "text": [
      "time : 1.1792681217193604\n"
     ]
    }
   ],
   "source": [
    "start = time.time()  # 시작 시간 저장\n",
    "engine.save_to_file(text , 'text15-민수.wav')\n",
    "engine.runAndWait()\n",
    "print(\"time :\", time.time() - start)  # 현재시각 - 시작시간 = 실행 시간"
   ]
  },
  {
   "cell_type": "code",
   "execution_count": 65,
   "metadata": {},
   "outputs": [],
   "source": [
    "engine.setProperty('voice', 'com.apple.voice.enhanced.ko-KR.Nuri')"
   ]
  },
  {
   "cell_type": "code",
   "execution_count": 66,
   "metadata": {},
   "outputs": [
    {
     "name": "stdout",
     "output_type": "stream",
     "text": [
      "time : 1.1810228824615479\n"
     ]
    }
   ],
   "source": [
    "start = time.time()  # 시작 시간 저장\n",
    "engine.save_to_file(text , 'text15-누리.wav')\n",
    "engine.runAndWait()\n",
    "print(\"time :\", time.time() - start)  # 현재시각 - 시작시간 = 실행 시간"
   ]
  },
  {
   "cell_type": "code",
   "execution_count": 68,
   "metadata": {},
   "outputs": [],
   "source": [
    "engine.setProperty('voice', 'com.apple.voice.enhanced.ko-KR.Sora')"
   ]
  },
  {
   "cell_type": "code",
   "execution_count": 69,
   "metadata": {},
   "outputs": [
    {
     "name": "stdout",
     "output_type": "stream",
     "text": [
      "time : 1.1009149551391602\n"
     ]
    }
   ],
   "source": [
    "start = time.time()  # 시작 시간 저장\n",
    "engine.save_to_file(text , 'text15-소라.wav')\n",
    "engine.runAndWait()\n",
    "print(\"time :\", time.time() - start)  # 현재시각 - 시작시간 = 실행 시간"
   ]
  },
  {
   "cell_type": "code",
   "execution_count": 70,
   "metadata": {},
   "outputs": [],
   "source": [
    "engine.setProperty('voice', 'com.apple.voice.premium.ko-KR.Yuna')"
   ]
  },
  {
   "cell_type": "code",
   "execution_count": 71,
   "metadata": {},
   "outputs": [
    {
     "name": "stdout",
     "output_type": "stream",
     "text": [
      "time : 1.8592209815979004\n"
     ]
    }
   ],
   "source": [
    "start = time.time()  # 시작 시간 저장\n",
    "engine.save_to_file(text , 'text15-유나.wav')\n",
    "engine.runAndWait()\n",
    "print(\"time :\", time.time() - start)  # 현재시각 - 시작시간 = 실행 시간"
   ]
  },
  {
   "cell_type": "code",
   "execution_count": 103,
   "metadata": {},
   "outputs": [],
   "source": [
    "engine.setProperty('voice', 'com.apple.voice.premium.ko-KR.Jina')"
   ]
  },
  {
   "cell_type": "code",
   "execution_count": 73,
   "metadata": {},
   "outputs": [
    {
     "name": "stdout",
     "output_type": "stream",
     "text": [
      "time : 1.2278902530670166\n"
     ]
    }
   ],
   "source": [
    "start = time.time()  # 시작 시간 저장\n",
    "engine.save_to_file(text , 'text15-지나.wav')\n",
    "engine.runAndWait()\n",
    "print(\"time :\", time.time() - start)  # 현재시각 - 시작시간 = 실행 시간"
   ]
  },
  {
   "cell_type": "code",
   "execution_count": 74,
   "metadata": {},
   "outputs": [
    {
     "name": "stdout",
     "output_type": "stream",
     "text": [
      "time : 0.5193350315093994\n"
     ]
    }
   ],
   "source": [
    "start = time.time()  # 시작 시간 저장\n",
    "engine.save_to_file(text , 'text15-지나2.wav')\n",
    "engine.runAndWait()\n",
    "print(\"time :\", time.time() - start)  # 현재시각 - 시작시간 = 실행 시간"
   ]
  },
  {
   "cell_type": "code",
   "execution_count": 75,
   "metadata": {},
   "outputs": [
    {
     "name": "stdout",
     "output_type": "stream",
     "text": [
      "time : 0.5080780982971191\n"
     ]
    }
   ],
   "source": [
    "start = time.time()  # 시작 시간 저장\n",
    "engine.save_to_file(text , 'text15-지나3.wav')\n",
    "engine.runAndWait()\n",
    "print(\"time :\", time.time() - start)  # 현재시각 - 시작시간 = 실행 시간"
   ]
  },
  {
   "cell_type": "code",
   "execution_count": 77,
   "metadata": {},
   "outputs": [],
   "source": [
    "text = '\"돈도 없고 백도 없는\" 평범한 여성 넷이 폭력과 자본을 갖춘 거대 범죄 조직에 맞서 사회 정의를 실현할 수 있을까요?'"
   ]
  },
  {
   "cell_type": "code",
   "execution_count": 78,
   "metadata": {},
   "outputs": [
    {
     "name": "stdout",
     "output_type": "stream",
     "text": [
      "time : 0.4141349792480469\n"
     ]
    }
   ],
   "source": [
    "start = time.time()  # 시작 시간 저장\n",
    "engine.save_to_file(text , 'text16.wav')\n",
    "engine.runAndWait()\n",
    "print(\"time :\", time.time() - start)  # 현재시각 - 시작시간 = 실행 시간"
   ]
  },
  {
   "cell_type": "code",
   "execution_count": 79,
   "metadata": {},
   "outputs": [],
   "source": [
    "text = '박영주 감독이 연출한 영화 \"시민덕희\"는 가능하다고 답했습니다.'"
   ]
  },
  {
   "cell_type": "code",
   "execution_count": 80,
   "metadata": {},
   "outputs": [
    {
     "name": "stdout",
     "output_type": "stream",
     "text": [
      "time : 0.3099362850189209\n"
     ]
    }
   ],
   "source": [
    "start = time.time()  # 시작 시간 저장\n",
    "engine.save_to_file(text , 'text17.wav')\n",
    "engine.runAndWait()\n",
    "print(\"time :\", time.time() - start)  # 현재시각 - 시작시간 = 실행 시간"
   ]
  },
  {
   "cell_type": "code",
   "execution_count": 81,
   "metadata": {},
   "outputs": [],
   "source": [
    "text = \"'시민덕희'는 보이스피싱을 당한 평범한 중년 여성 덕희가 동생뻘의 여성 셋과 힘을 합쳐 중국에 근거지를 둔 보이스피싱 범죄 조직의 보스를 잡으러 나서는 이야기입니다.\""
   ]
  },
  {
   "cell_type": "code",
   "execution_count": 82,
   "metadata": {},
   "outputs": [
    {
     "name": "stdout",
     "output_type": "stream",
     "text": [
      "time : 0.5226960182189941\n"
     ]
    }
   ],
   "source": [
    "start = time.time()  # 시작 시간 저장\n",
    "engine.save_to_file(text , 'text18.wav')\n",
    "engine.runAndWait()\n",
    "print(\"time :\", time.time() - start)  # 현재시각 - 시작시간 = 실행 시간"
   ]
  },
  {
   "cell_type": "code",
   "execution_count": 83,
   "metadata": {},
   "outputs": [
    {
     "name": "stdout",
     "output_type": "stream",
     "text": [
      "time : 0.1073908805847168\n"
     ]
    }
   ],
   "source": [
    "start = time.time()  # 시작 시간 저장\n",
    "engine.save_to_file(text , 'text18.mp3')\n",
    "engine.runAndWait()\n",
    "print(\"time :\", time.time() - start)  # 현재시각 - 시작시간 = 실행 시간"
   ]
  },
  {
   "cell_type": "code",
   "execution_count": 84,
   "metadata": {},
   "outputs": [],
   "source": [
    "text = '그룹 에이프릴 출신 배우 이나은이 축구선수 이강인과 열애설이 불거졌으나 지인 사이라며 부인했습니다.'"
   ]
  },
  {
   "cell_type": "code",
   "execution_count": 88,
   "metadata": {},
   "outputs": [],
   "source": [
    "engine.setProperty('voice', 'com.apple.voice.premium.ko-KR.Yuna')"
   ]
  },
  {
   "cell_type": "code",
   "execution_count": 90,
   "metadata": {},
   "outputs": [
    {
     "name": "stdout",
     "output_type": "stream",
     "text": [
      "time : 0.3116128444671631\n"
     ]
    }
   ],
   "source": [
    "start = time.time()  # 시작 시간 저장\n",
    "engine.save_to_file(text , 'text3-유나.wav')\n",
    "engine.runAndWait()\n",
    "print(\"time :\", time.time() - start)  # 현재시각 - 시작시간 = 실행 시간"
   ]
  },
  {
   "cell_type": "code",
   "execution_count": null,
   "metadata": {},
   "outputs": [],
   "source": []
  },
  {
   "cell_type": "code",
   "execution_count": null,
   "metadata": {},
   "outputs": [],
   "source": []
  }
 ],
 "metadata": {
  "kernelspec": {
   "display_name": "pyttsx4-venv",
   "language": "python",
   "name": "python3"
  },
  "language_info": {
   "codemirror_mode": {
    "name": "ipython",
    "version": 3
   },
   "file_extension": ".py",
   "mimetype": "text/x-python",
   "name": "python",
   "nbconvert_exporter": "python",
   "pygments_lexer": "ipython3",
   "version": "3.8.3"
  }
 },
 "nbformat": 4,
 "nbformat_minor": 2
}
